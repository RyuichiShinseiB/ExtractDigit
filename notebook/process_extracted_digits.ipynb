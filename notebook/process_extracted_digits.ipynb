{
 "cells": [
  {
   "cell_type": "code",
   "execution_count": 1,
   "metadata": {},
   "outputs": [],
   "source": [
    "import polars as pl"
   ]
  },
  {
   "cell_type": "code",
   "execution_count": 3,
   "metadata": {},
   "outputs": [
    {
     "data": {
      "text/html": [
       "<div><style>\n",
       ".dataframe > thead > tr,\n",
       ".dataframe > tbody > tr {\n",
       "  text-align: right;\n",
       "  white-space: pre-wrap;\n",
       "}\n",
       "</style>\n",
       "<small>shape: (11, 5)</small><table border=\"1\" class=\"dataframe\"><thead><tr><th>img_name</th><th>4th-digit</th><th>3rd-digit</th><th>2nd-digit</th><th>1st-digit</th></tr><tr><td>str</td><td>i64</td><td>i64</td><td>i64</td><td>i64</td></tr></thead><tbody><tr><td>&quot;IMG_20240708_132157_011&quot;</td><td>1</td><td>2</td><td>7</td><td>9</td></tr><tr><td>&quot;IMG_20240708_132157_012&quot;</td><td>1</td><td>2</td><td>7</td><td>9</td></tr><tr><td>&quot;IMG_20240708_132157_021&quot;</td><td>1</td><td>2</td><td>2</td><td>4</td></tr><tr><td>&quot;IMG_20240708_132157_022&quot;</td><td>1</td><td>2</td><td>2</td><td>8</td></tr><tr><td>&quot;IMG_20240708_132157_023&quot;</td><td>1</td><td>2</td><td>3</td><td>1</td></tr><tr><td>&hellip;</td><td>&hellip;</td><td>&hellip;</td><td>&hellip;</td><td>&hellip;</td></tr><tr><td>&quot;IMG_20240708_132157_025&quot;</td><td>1</td><td>2</td><td>3</td><td>8</td></tr><tr><td>&quot;IMG_20240708_132157_026&quot;</td><td>1</td><td>2</td><td>3</td><td>5</td></tr><tr><td>&quot;IMG_20240708_132157_027&quot;</td><td>1</td><td>2</td><td>3</td><td>1</td></tr><tr><td>&quot;IMG_20240708_132157_028&quot;</td><td>1</td><td>2</td><td>3</td><td>2</td></tr><tr><td>&quot;IMG_20240708_132157_339&quot;</td><td>0</td><td>9</td><td>1</td><td>2</td></tr></tbody></table></div>"
      ],
      "text/plain": [
       "shape: (11, 5)\n",
       "┌─────────────────────────┬───────────┬───────────┬───────────┬───────────┐\n",
       "│ img_name                ┆ 4th-digit ┆ 3rd-digit ┆ 2nd-digit ┆ 1st-digit │\n",
       "│ ---                     ┆ ---       ┆ ---       ┆ ---       ┆ ---       │\n",
       "│ str                     ┆ i64       ┆ i64       ┆ i64       ┆ i64       │\n",
       "╞═════════════════════════╪═══════════╪═══════════╪═══════════╪═══════════╡\n",
       "│ IMG_20240708_132157_011 ┆ 1         ┆ 2         ┆ 7         ┆ 9         │\n",
       "│ IMG_20240708_132157_012 ┆ 1         ┆ 2         ┆ 7         ┆ 9         │\n",
       "│ IMG_20240708_132157_021 ┆ 1         ┆ 2         ┆ 2         ┆ 4         │\n",
       "│ IMG_20240708_132157_022 ┆ 1         ┆ 2         ┆ 2         ┆ 8         │\n",
       "│ IMG_20240708_132157_023 ┆ 1         ┆ 2         ┆ 3         ┆ 1         │\n",
       "│ …                       ┆ …         ┆ …         ┆ …         ┆ …         │\n",
       "│ IMG_20240708_132157_025 ┆ 1         ┆ 2         ┆ 3         ┆ 8         │\n",
       "│ IMG_20240708_132157_026 ┆ 1         ┆ 2         ┆ 3         ┆ 5         │\n",
       "│ IMG_20240708_132157_027 ┆ 1         ┆ 2         ┆ 3         ┆ 1         │\n",
       "│ IMG_20240708_132157_028 ┆ 1         ┆ 2         ┆ 3         ┆ 2         │\n",
       "│ IMG_20240708_132157_339 ┆ 0         ┆ 9         ┆ 1         ┆ 2         │\n",
       "└─────────────────────────┴───────────┴───────────┴───────────┴───────────┘"
      ]
     },
     "execution_count": 3,
     "metadata": {},
     "output_type": "execute_result"
    }
   ],
   "source": [
    "src_path = \"../data/src_images/measured_lux_progress.csv\"\n",
    "df = pl.read_csv(src_path)\n",
    "df"
   ]
  },
  {
   "cell_type": "code",
   "execution_count": 14,
   "metadata": {},
   "outputs": [
    {
     "data": {
      "text/html": [
       "<div><style>\n",
       ".dataframe > thead > tr,\n",
       ".dataframe > tbody > tr {\n",
       "  text-align: right;\n",
       "  white-space: pre-wrap;\n",
       "}\n",
       "</style>\n",
       "<small>shape: (11, 6)</small><table border=\"1\" class=\"dataframe\"><thead><tr><th>img_name</th><th>4th-digit</th><th>3rd-digit</th><th>2nd-digit</th><th>1st-digit</th><th>lux</th></tr><tr><td>str</td><td>i64</td><td>i64</td><td>i64</td><td>i64</td><td>f64</td></tr></thead><tbody><tr><td>&quot;IMG_20240708_132157_011&quot;</td><td>1</td><td>2</td><td>7</td><td>9</td><td>null</td></tr><tr><td>&quot;IMG_20240708_132157_012&quot;</td><td>1</td><td>2</td><td>7</td><td>9</td><td>null</td></tr><tr><td>&quot;IMG_20240708_132157_021&quot;</td><td>1</td><td>2</td><td>2</td><td>4</td><td>null</td></tr><tr><td>&quot;IMG_20240708_132157_022&quot;</td><td>1</td><td>2</td><td>2</td><td>8</td><td>null</td></tr><tr><td>&quot;IMG_20240708_132157_023&quot;</td><td>1</td><td>2</td><td>3</td><td>1</td><td>null</td></tr><tr><td>&hellip;</td><td>&hellip;</td><td>&hellip;</td><td>&hellip;</td><td>&hellip;</td><td>&hellip;</td></tr><tr><td>&quot;IMG_20240708_132157_025&quot;</td><td>1</td><td>2</td><td>3</td><td>8</td><td>null</td></tr><tr><td>&quot;IMG_20240708_132157_026&quot;</td><td>1</td><td>2</td><td>3</td><td>5</td><td>null</td></tr><tr><td>&quot;IMG_20240708_132157_027&quot;</td><td>1</td><td>2</td><td>3</td><td>1</td><td>null</td></tr><tr><td>&quot;IMG_20240708_132157_028&quot;</td><td>1</td><td>2</td><td>3</td><td>2</td><td>null</td></tr><tr><td>&quot;IMG_20240708_132157_339&quot;</td><td>0</td><td>9</td><td>1</td><td>2</td><td>null</td></tr></tbody></table></div>"
      ],
      "text/plain": [
       "shape: (11, 6)\n",
       "┌─────────────────────────┬───────────┬───────────┬───────────┬───────────┬──────┐\n",
       "│ img_name                ┆ 4th-digit ┆ 3rd-digit ┆ 2nd-digit ┆ 1st-digit ┆ lux  │\n",
       "│ ---                     ┆ ---       ┆ ---       ┆ ---       ┆ ---       ┆ ---  │\n",
       "│ str                     ┆ i64       ┆ i64       ┆ i64       ┆ i64       ┆ f64  │\n",
       "╞═════════════════════════╪═══════════╪═══════════╪═══════════╪═══════════╪══════╡\n",
       "│ IMG_20240708_132157_011 ┆ 1         ┆ 2         ┆ 7         ┆ 9         ┆ null │\n",
       "│ IMG_20240708_132157_012 ┆ 1         ┆ 2         ┆ 7         ┆ 9         ┆ null │\n",
       "│ IMG_20240708_132157_021 ┆ 1         ┆ 2         ┆ 2         ┆ 4         ┆ null │\n",
       "│ IMG_20240708_132157_022 ┆ 1         ┆ 2         ┆ 2         ┆ 8         ┆ null │\n",
       "│ IMG_20240708_132157_023 ┆ 1         ┆ 2         ┆ 3         ┆ 1         ┆ null │\n",
       "│ …                       ┆ …         ┆ …         ┆ …         ┆ …         ┆ …    │\n",
       "│ IMG_20240708_132157_025 ┆ 1         ┆ 2         ┆ 3         ┆ 8         ┆ null │\n",
       "│ IMG_20240708_132157_026 ┆ 1         ┆ 2         ┆ 3         ┆ 5         ┆ null │\n",
       "│ IMG_20240708_132157_027 ┆ 1         ┆ 2         ┆ 3         ┆ 1         ┆ null │\n",
       "│ IMG_20240708_132157_028 ┆ 1         ┆ 2         ┆ 3         ┆ 2         ┆ null │\n",
       "│ IMG_20240708_132157_339 ┆ 0         ┆ 9         ┆ 1         ┆ 2         ┆ null │\n",
       "└─────────────────────────┴───────────┴───────────┴───────────┴───────────┴──────┘"
      ]
     },
     "execution_count": 14,
     "metadata": {},
     "output_type": "execute_result"
    }
   ],
   "source": [
    "df.select(\n",
    "    pl.col(df.columns),\n",
    "    pl.concat_str(\n",
    "        pl.col(\"4th-digit\"),\n",
    "        pl.col(\"3rd-digit\"),\n",
    "        pl.col(\"2nd-digit\"),\n",
    "        pl.col(\"1st-digit\"),\n",
    "        pl.lit(\"e+2\")\n",
    "    ).alias(\"lux\").cast(pl.Float64)\n",
    ")"
   ]
  }
 ],
 "metadata": {
  "kernelspec": {
   "display_name": ".venv",
   "language": "python",
   "name": "python3"
  },
  "language_info": {
   "codemirror_mode": {
    "name": "ipython",
    "version": 3
   },
   "file_extension": ".py",
   "mimetype": "text/x-python",
   "name": "python",
   "nbconvert_exporter": "python",
   "pygments_lexer": "ipython3",
   "version": "3.10.12"
  }
 },
 "nbformat": 4,
 "nbformat_minor": 2
}
